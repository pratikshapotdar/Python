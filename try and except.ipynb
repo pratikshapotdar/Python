{
 "cells": [
  {
   "cell_type": "code",
   "execution_count": 2,
   "id": "a7a6c248",
   "metadata": {},
   "outputs": [
    {
     "ename": "TypeError",
     "evalue": "'set' object is not subscriptable",
     "output_type": "error",
     "traceback": [
      "\u001b[1;31m---------------------------------------------------------------------------\u001b[0m",
      "\u001b[1;31mTypeError\u001b[0m                                 Traceback (most recent call last)",
      "Cell \u001b[1;32mIn[2], line 3\u001b[0m\n\u001b[0;32m      1\u001b[0m a \u001b[38;5;241m=\u001b[39m {\u001b[38;5;241m10\u001b[39m,\u001b[38;5;241m20\u001b[39m,\u001b[38;5;241m30\u001b[39m}\n\u001b[0;32m      2\u001b[0m \u001b[38;5;28;01mtry\u001b[39;00m:\n\u001b[1;32m----> 3\u001b[0m     \u001b[38;5;28mprint\u001b[39m(a[\u001b[38;5;241m1\u001b[39m])\n\u001b[0;32m      4\u001b[0m     \u001b[38;5;28mprint\u001b[39m(a[\u001b[38;5;241m3\u001b[39m])\n\u001b[0;32m      5\u001b[0m \u001b[38;5;28;01mexcept\u001b[39;00m \u001b[38;5;167;01mIndexError\u001b[39;00m:\n",
      "\u001b[1;31mTypeError\u001b[0m: 'set' object is not subscriptable"
     ]
    }
   ],
   "source": [
    "a = {10,20,30}\n",
    "try:\n",
    "    print(a[1])\n",
    "    print(a[3])\n",
    "except IndexError:\n",
    "    print(\"invalid index\")"
   ]
  },
  {
   "cell_type": "markdown",
   "id": "2e1e533f",
   "metadata": {},
   "source": [
    "try with multiple except blocks"
   ]
  },
  {
   "cell_type": "code",
   "execution_count": 4,
   "id": "409829dd",
   "metadata": {},
   "outputs": [
    {
     "name": "stdout",
     "output_type": "stream",
     "text": [
      "cannot divide by zero\n"
     ]
    }
   ],
   "source": [
    "try:\n",
    "    a =15/0\n",
    "    print(a)\n",
    "    print(b)\n",
    "except ZeroDivisionError:\n",
    "    print(\"cannot divide by zero\")\n",
    "except NameError:\n",
    "    print(\"no such variable name\")"
   ]
  },
  {
   "cell_type": "markdown",
   "id": "166e1c8d",
   "metadata": {},
   "source": [
    "try: except : finally blocks:"
   ]
  },
  {
   "cell_type": "code",
   "execution_count": 5,
   "id": "bbace5ae",
   "metadata": {},
   "outputs": [
    {
     "name": "stdout",
     "output_type": "stream",
     "text": [
      "20\n",
      "invalid index\n",
      "this has to be executed\n"
     ]
    }
   ],
   "source": [
    "a =[110,20,30]\n",
    "try:\n",
    "    print(a[1])\n",
    "    print(a[3])\n",
    "except IndexError:\n",
    "    print(\"invalid index\")\n",
    "finally:\n",
    "    print(\"this has to be executed\")"
   ]
  },
  {
   "cell_type": "markdown",
   "id": "308eb8de",
   "metadata": {},
   "source": [
    "the raise statement or manually raising exception"
   ]
  },
  {
   "cell_type": "code",
   "execution_count": 6,
   "id": "141f1889",
   "metadata": {},
   "outputs": [
    {
     "name": "stdout",
     "output_type": "stream",
     "text": [
      "try block starts\n",
      "error occured\n"
     ]
    }
   ],
   "source": [
    "try:\n",
    "    print(\"try block starts\")\n",
    "    raise NameError(\"Hi there\")\n",
    "except NameError:\n",
    "    print(\"error occured\")"
   ]
  }
 ],
 "metadata": {
  "kernelspec": {
   "display_name": "base",
   "language": "python",
   "name": "python3"
  },
  "language_info": {
   "codemirror_mode": {
    "name": "ipython",
    "version": 3
   },
   "file_extension": ".py",
   "mimetype": "text/x-python",
   "name": "python",
   "nbconvert_exporter": "python",
   "pygments_lexer": "ipython3",
   "version": "3.12.4"
  }
 },
 "nbformat": 4,
 "nbformat_minor": 5
}
