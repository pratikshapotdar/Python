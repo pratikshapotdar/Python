{
 "cells": [
  {
   "cell_type": "code",
   "execution_count": 1,
   "id": "b127a783",
   "metadata": {},
   "outputs": [
    {
     "name": "stdout",
     "output_type": "stream",
     "text": [
      "25\n"
     ]
    }
   ],
   "source": [
    "class demo:\n",
    "    def input(self,x):\n",
    "        self.x=x\n",
    "    def show(self):\n",
    "        print(self.x)\n",
    "d = demo()\n",
    "d.input(25)\n",
    "d.show()"
   ]
  },
  {
   "cell_type": "code",
   "execution_count": 3,
   "id": "552faa25",
   "metadata": {},
   "outputs": [
    {
     "name": "stdout",
     "output_type": "stream",
     "text": [
      "roll no. is:  23\n",
      "name is:  janvi\n"
     ]
    }
   ],
   "source": [
    "class student:\n",
    "    def input(self,roll,nm):\n",
    "        self.roll=roll\n",
    "        self.nm=nm\n",
    "    def show(self):\n",
    "        print(\"roll no. is: \",self.roll)\n",
    "        print(\"name is: \",self.nm)\n",
    "s = student()\n",
    "s.input(23,\"janvi\")\n",
    "s.show()"
   ]
  },
  {
   "cell_type": "markdown",
   "id": "71558708",
   "metadata": {},
   "source": [
    "constructror"
   ]
  },
  {
   "cell_type": "code",
   "execution_count": 14,
   "id": "34209b76",
   "metadata": {},
   "outputs": [
    {
     "name": "stdout",
     "output_type": "stream",
     "text": [
      "roll no. is:  45\n",
      "name is:  chg\n"
     ]
    }
   ],
   "source": [
    "class student:\n",
    "    def __init__(self):\n",
    "        self.roll=1\n",
    "        nm=\"abc\"\n",
    "    def show(self):\n",
    "        print(\"roll no. is: \",roll)\n",
    "        print(\"name is: \",nm)\n",
    "s = student()\n",
    "s.show()\n",
    "        "
   ]
  },
  {
   "cell_type": "code",
   "execution_count": 15,
   "id": "a1565f6f",
   "metadata": {},
   "outputs": [
    {
     "name": "stdout",
     "output_type": "stream",
     "text": [
      "enter roll no:\n",
      "enter name: \n",
      "roll no. is:  22\n",
      "name is:  fjinc\n"
     ]
    }
   ],
   "source": [
    "class student:\n",
    "    def __init__(self,roll,nm):\n",
    "        self.roll=roll\n",
    "        self.nm=nm\n",
    "    def show(self):\n",
    "        print(\"roll no. is: \",self.roll)\n",
    "        print(\"name is: \",self.nm)\n",
    "print(\"enter roll no:\")\n",
    "roll = int(input())\n",
    "print(\"enter name: \")\n",
    "nm = input()\n",
    "s = student(roll,nm)\n",
    "s.show()\n",
    "\n",
    "        "
   ]
  }
 ],
 "metadata": {
  "kernelspec": {
   "display_name": "base",
   "language": "python",
   "name": "python3"
  },
  "language_info": {
   "codemirror_mode": {
    "name": "ipython",
    "version": 3
   },
   "file_extension": ".py",
   "mimetype": "text/x-python",
   "name": "python",
   "nbconvert_exporter": "python",
   "pygments_lexer": "ipython3",
   "version": "3.12.4"
  }
 },
 "nbformat": 4,
 "nbformat_minor": 5
}
