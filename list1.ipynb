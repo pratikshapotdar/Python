{
 "cells": [
  {
   "cell_type": "markdown",
   "id": "a5709f0a",
   "metadata": {},
   "source": [
    "iterating through the list using for-loop"
   ]
  },
  {
   "cell_type": "markdown",
   "id": "5c67178c",
   "metadata": {},
   "source": [
    "1 sum og elements in the list"
   ]
  },
  {
   "cell_type": "code",
   "execution_count": 2,
   "id": "bdba7fa9",
   "metadata": {},
   "outputs": [
    {
     "name": "stdout",
     "output_type": "stream",
     "text": [
      "sum is 150\n"
     ]
    }
   ],
   "source": [
    "list1=[10,20,30,40,50]\n",
    "sum=0\n",
    "for ele in list1:\n",
    "      sum = sum + ele\n",
    "print(\"sum is\",sum)"
   ]
  },
  {
   "cell_type": "markdown",
   "id": "876eb019",
   "metadata": {},
   "source": [
    "squres and cubes of the elements in the list"
   ]
  },
  {
   "cell_type": "code",
   "execution_count": 4,
   "id": "e7989bb1",
   "metadata": {},
   "outputs": [
    {
     "name": "stdout",
     "output_type": "stream",
     "text": [
      "square is 1\n",
      "cube is 1\n",
      "square is 4\n",
      "cube is 8\n",
      "square is 9\n",
      "cube is 27\n",
      "square is 16\n",
      "cube is 64\n",
      "square is 25\n",
      "cube is 125\n",
      "square is 36\n",
      "cube is 216\n",
      "square is 49\n",
      "cube is 343\n",
      "square is 64\n",
      "cube is 512\n",
      "square is 81\n",
      "cube is 729\n",
      "square is 100\n",
      "cube is 1000\n"
     ]
    }
   ],
   "source": [
    "list1=[1,2,3,4,5,6,7,8,9,10]\n",
    "for ele in list1:\n",
    "    sq = ele * ele \n",
    "    cu = ele * ele * ele\n",
    "    print(\"square is\",sq)\n",
    "    print(\"cube is\",cu)"
   ]
  },
  {
   "cell_type": "code",
   "execution_count": 6,
   "id": "cfcc404e",
   "metadata": {},
   "outputs": [
    {
     "name": "stdout",
     "output_type": "stream",
     "text": [
      "['N', 'P', 'R', 'O', 'G', 'R', 'A', 'M', 'S']\n",
      "['H', 'O', 'N', 'P', 'R']\n",
      "['P', 'Y', 'T', 'H', 'O', 'N', 'P', 'R', 'O', 'G', 'R', 'A', 'M', 'S']\n",
      "['P', 'Y', 'T', 'H', 'O', 'N', 'P', 'R', 'O']\n",
      "['P', 'Y', 'T', 'H', 'O']\n",
      "['S', 'M', 'A', 'R', 'G', 'O', 'R', 'P', 'N', 'O', 'H', 'T', 'Y', 'P']\n"
     ]
    }
   ],
   "source": [
    "list1 = ['P','Y','T','H','O','N','P','R','O','G','R','A','M','S']\n",
    "sliced_list = list1[3:8]\n",
    "sliced_list = list1[5:]\n",
    "liced_list = list1[:]\n",
    "liced_list = list1[:-5]\n",
    "liced_list = list1[:5]\n",
    "liced_list = list1[::-1]\n",
    "print(list1[5:])\n",
    "print(list1[3:8])\n",
    "print(list1[:])\n",
    "print(list1[:-5])\n",
    "print(list1[:5])\n",
    "print(list1[::-1])"
   ]
  },
  {
   "cell_type": "markdown",
   "id": "f8937a20",
   "metadata": {},
   "source": [
    "it removes element from specified from list pop()"
   ]
  },
  {
   "cell_type": "code",
   "execution_count": 8,
   "id": "7846ab8d",
   "metadata": {},
   "outputs": [
    {
     "name": "stdout",
     "output_type": "stream",
     "text": [
      "[1, 2, 3, 5]\n"
     ]
    }
   ],
   "source": [
    "list1 = [1, 2, 3, 4, 5]\n",
    "list1.pop(3)\n",
    "print(list1)"
   ]
  },
  {
   "cell_type": "markdown",
   "id": "c57b0b17",
   "metadata": {},
   "source": [
    "removes all elements from list clear()"
   ]
  },
  {
   "cell_type": "code",
   "execution_count": 9,
   "id": "bdb2f5de",
   "metadata": {},
   "outputs": [
    {
     "name": "stdout",
     "output_type": "stream",
     "text": [
      "[]\n"
     ]
    }
   ],
   "source": [
    "list1 = ['A', 'B', 'C', 'D']\n",
    "list1.clear()\n",
    "print(list1)"
   ]
  },
  {
   "cell_type": "code",
   "execution_count": 11,
   "id": "ce5ef357",
   "metadata": {},
   "outputs": [
    {
     "name": "stdout",
     "output_type": "stream",
     "text": [
      "presence of 10 in list1 is: False\n",
      "presence of 25 in list1 is: True\n"
     ]
    }
   ],
   "source": [
    "list1 = [10,20,40,55.5,\"ravi\",100]\n",
    "print(\"presence of 10 in list1 is:\",10 not in list1)\n",
    "print(\"presence of 25 in list1 is:\",25 not in list1)"
   ]
  },
  {
   "cell_type": "markdown",
   "id": "20318895",
   "metadata": {},
   "source": [
    "append() = it adds specified elements to the last position of the list."
   ]
  },
  {
   "cell_type": "code",
   "execution_count": 13,
   "id": "23edec78",
   "metadata": {},
   "outputs": [
    {
     "name": "stdout",
     "output_type": "stream",
     "text": [
      "[10, 20, 'ravi', 10.5, 20.5]\n"
     ]
    }
   ],
   "source": [
    "list1 = [ 10,20,'ravi',10.5]\n",
    "list1.append(20.5)\n",
    "print(list1)"
   ]
  },
  {
   "cell_type": "markdown",
   "id": "1d006ee2",
   "metadata": {},
   "source": [
    "insert() = it inserts element at specified position of list "
   ]
  },
  {
   "cell_type": "code",
   "execution_count": 15,
   "id": "9c5d42f5",
   "metadata": {},
   "outputs": [
    {
     "name": "stdout",
     "output_type": "stream",
     "text": [
      "[10, 20, 30, 30, 40, 60, 50]\n"
     ]
    }
   ],
   "source": [
    "list1=[10,20,30,40,50]\n",
    "list1.insert(2,30)\n",
    "list1.insert(-1,60)\n",
    "print(list1)"
   ]
  },
  {
   "cell_type": "markdown",
   "id": "787393a6",
   "metadata": {},
   "source": [
    "extend() = it adds element parameter list with"
   ]
  },
  {
   "cell_type": "code",
   "execution_count": 16,
   "id": "941645d5",
   "metadata": {},
   "outputs": [
    {
     "name": "stdout",
     "output_type": "stream",
     "text": [
      "[10, 20, 25, 30, 40, 50]\n"
     ]
    }
   ],
   "source": [
    "list1=[10,20,30,40,50]\n",
    "list1.insert(2, 25)\n",
    "print(list1)"
   ]
  },
  {
   "cell_type": "code",
   "execution_count": 17,
   "id": "43758dc6",
   "metadata": {},
   "outputs": [
    {
     "name": "stdout",
     "output_type": "stream",
     "text": [
      "length of list1 is: 5\n"
     ]
    }
   ],
   "source": [
    "list1 = [10, 20, 30, 40, 50]\n",
    "a = list1.__len__()\n",
    "print(\"length of list1 is:\", a)"
   ]
  },
  {
   "cell_type": "markdown",
   "id": "7821838d",
   "metadata": {},
   "source": [
    "updating ele : "
   ]
  },
  {
   "cell_type": "code",
   "execution_count": 18,
   "id": "a4174f3b",
   "metadata": {},
   "outputs": [
    {
     "name": "stdout",
     "output_type": "stream",
     "text": [
      "after overwriting by its square: [1, 9, 25, 64, 81, 121, 225, 324]\n"
     ]
    }
   ],
   "source": [
    "list1 = [1,3,5,8,9,11,15,18]\n",
    "i = 0\n",
    "while i<list1.__len__():\n",
    "    list1[i] = list1[i] * list1[i]\n",
    "    i = i+1\n",
    "print(\"after overwriting by its square:\", list1)\n",
    "\n",
    "    "
   ]
  },
  {
   "cell_type": "code",
   "execution_count": 19,
   "id": "a363cf4f",
   "metadata": {},
   "outputs": [
    {
     "name": "stdout",
     "output_type": "stream",
     "text": [
      "[2, 4, 6, 8]\n",
      "after updating 0th index: [1, 4, 6, 8]\n",
      "after updating from 1st to 4th index: [1, 3, 4, 7]\n"
     ]
    }
   ],
   "source": [
    "odd = [2,4,6,8]\n",
    "print(odd)\n",
    "odd[0] = 1\n",
    "print(\"after updating 0th index:\", odd)\n",
    "odd[1:4]=[3,4,7]\n",
    "print(\"after updating from 1st to 4th index:\", odd)"
   ]
  },
  {
   "cell_type": "code",
   "execution_count": 29,
   "id": "ada75c83",
   "metadata": {},
   "outputs": [
    {
     "name": "stdout",
     "output_type": "stream",
     "text": [
      "list1 after deletion: ['p']\n"
     ]
    }
   ],
   "source": [
    "list1 = ['p','y','t','h','o','n']\n",
    "del list1[2]\n",
    "del list1[1:5]\n",
    "#del list1\n",
    "print(\"list1 after deletion:\", list1)  # This will raise an error since list1 is deleted"
   ]
  },
  {
   "cell_type": "code",
   "execution_count": 32,
   "id": "b4079ef3",
   "metadata": {},
   "outputs": [
    {
     "name": "stdout",
     "output_type": "stream",
     "text": [
      "list1 after deletion: ['p', 'y', 't', 'h', 'o', 'n']\n"
     ]
    }
   ],
   "source": [
    "list = ['p','y','t','h','o','n']\n",
    "#del list[2]\n",
    "#del list[1:5]\n",
    "del list1\n",
    "print(\"list1 after deletion:\", list)  # This will raise an error since list1 is deleted"
   ]
  },
  {
   "cell_type": "code",
   "execution_count": 33,
   "id": "42bc324d",
   "metadata": {},
   "outputs": [
    {
     "name": "stdout",
     "output_type": "stream",
     "text": [
      "[1, 2, 3, 4]\n"
     ]
    }
   ],
   "source": [
    "list1 = [0,1,2,3,4]\n",
    "list1.remove(0)\n",
    "print(list1)"
   ]
  }
 ],
 "metadata": {
  "kernelspec": {
   "display_name": "base",
   "language": "python",
   "name": "python3"
  },
  "language_info": {
   "codemirror_mode": {
    "name": "ipython",
    "version": 3
   },
   "file_extension": ".py",
   "mimetype": "text/x-python",
   "name": "python",
   "nbconvert_exporter": "python",
   "pygments_lexer": "ipython3",
   "version": "3.12.4"
  }
 },
 "nbformat": 4,
 "nbformat_minor": 5
}
