{
 "cells": [
  {
   "cell_type": "markdown",
   "id": "3748fa51",
   "metadata": {},
   "source": [
    "multi dimensional list "
   ]
  },
  {
   "cell_type": "code",
   "execution_count": 1,
   "id": "68d41885",
   "metadata": {},
   "outputs": [
    {
     "name": "stdout",
     "output_type": "stream",
     "text": [
      "20\n",
      "[30, 40, 50]\n",
      "30\n",
      "40\n",
      "80\n"
     ]
    }
   ],
   "source": [
    "list1 = [10,20,[30,40,50],60,[\"ravi\",70,80]]\n",
    "print(list1[1])\n",
    "print(list1[2])\n",
    "print(list1[2][0])\n",
    "print(list1[2][1])\n",
    "print(list1[4][2])"
   ]
  },
  {
   "cell_type": "markdown",
   "id": "52c77ae6",
   "metadata": {},
   "source": [
    "using for print the whole list"
   ]
  },
  {
   "cell_type": "code",
   "execution_count": 2,
   "id": "084d5846",
   "metadata": {},
   "outputs": [
    {
     "name": "stdout",
     "output_type": "stream",
     "text": [
      "10\n",
      "20\n",
      "[30, 40, 50]\n",
      "60\n",
      "['ravi', 70, 80]\n",
      "90\n"
     ]
    }
   ],
   "source": [
    "list1 = [10,20,[30,40,50],60,[\"ravi\",70,80],90]\n",
    "for ele in list1:\n",
    "    print(ele)"
   ]
  },
  {
   "cell_type": "markdown",
   "id": "defe5c6c",
   "metadata": {},
   "source": [
    "using while print the whole list\n"
   ]
  },
  {
   "cell_type": "code",
   "execution_count": 4,
   "id": "dd128a39",
   "metadata": {},
   "outputs": [
    {
     "name": "stdout",
     "output_type": "stream",
     "text": [
      "list[0]\n",
      "list[1]\n",
      "list[2]\n",
      "list[3]\n",
      "list[4]\n",
      "list[5]\n",
      "[10, 20, [30, 40, 50], 60, ['ravi', 70, 80], 90]\n"
     ]
    }
   ],
   "source": [
    "list1 = [10,20,[30,40,50],60,[\"ravi\",70,80],90]\n",
    "i=0\n",
    "while i<list1.__len__():\n",
    "    print(list[i])\n",
    "    i=i+1\n",
    "print(list1)"
   ]
  },
  {
   "cell_type": "markdown",
   "id": "9a887498",
   "metadata": {},
   "source": [
    "creat a 3*3 matrix styled nested list"
   ]
  },
  {
   "cell_type": "code",
   "execution_count": 5,
   "id": "7e6bcfa9",
   "metadata": {},
   "outputs": [
    {
     "name": "stdout",
     "output_type": "stream",
     "text": [
      "1 2 3 \n",
      "4 5 6 \n",
      "7 8 9 \n"
     ]
    }
   ],
   "source": [
    "list1 = [[1,2,3],[4,5,6],[7,8,9]]\n",
    "i=0\n",
    "while i<=2:\n",
    "    j = 0\n",
    "    while j<=2:\n",
    "        print(list1[i][j],end = \" \")\n",
    "        j = j+1\n",
    "    print()\n",
    "    i = i+1"
   ]
  },
  {
   "cell_type": "code",
   "execution_count": 7,
   "id": "627c279f",
   "metadata": {},
   "outputs": [
    {
     "name": "stdout",
     "output_type": "stream",
     "text": [
      "1 2 3 \n",
      "4 5 6 \n",
      "7 8 9 \n"
     ]
    }
   ],
   "source": [
    "list1 = [[1,2,3],[4,5,6],[7,8,9]]\n",
    "i=0\n",
    "while i<list1.__len__():\n",
    "    j=0\n",
    "    while j<list1[i].__len__():\n",
    "        print(list1[i][j],end = \" \")\n",
    "        j=j+1\n",
    "    print()\n",
    "    i=i+1"
   ]
  },
  {
   "cell_type": "markdown",
   "id": "bb94bb18",
   "metadata": {},
   "source": [
    "add 2 nested list like 2d array"
   ]
  },
  {
   "cell_type": "code",
   "execution_count": null,
   "id": "8318c95c",
   "metadata": {},
   "outputs": [],
   "source": [
    "list1 = [[1,2,3],[4,5,6],[7,8,9]]\n",
    "list2 = [[1,2,3],[4,5,6],[7,8,9]]\n",
    "list3 = []\n",
    "print(\"list1 contains\")\n",
    "i=0\n",
    "while i<list1.__len__():\n",
    "    j=0\n",
    "    while j<list1[i].__len__():\n",
    "        print(list1[i][j],end = \"\\t\")\n",
    "        j=j+1\n",
    "    print()\n",
    "    i=i+1\n",
    "print(\"list2 contains\")\n",
    "i=0\n",
    "while i<list2.__len__():\n",
    "    j=0\n",
    "    while j<list2[i].__len__():\n",
    "        print(list2[i][j],end = \"\\t\")\n",
    "        j=j+1\n",
    "    print()\n",
    "    i=i+1\n",
    "i=0\n",
    "while i<=2:\n",
    "    j=0\n",
    "    list3.append([])\n",
    "    while j<=2:\n",
    "        sum = list1[i][j] + list2[i][j]\n",
    "        list3[i].append(sum)\n",
    "        j=j+1\n",
    "    print()\n",
    "    i=i+1\n",
    "print(\"list3 contains\")\n",
    "i=0\n",
    "while i<list3.__len__():\n",
    "    j = 0\n",
    "    while j<list3[i].__len__():\n",
    "        print(list3[i][j],end = \"\\t\")\n",
    "    print()\n",
    "    i=i+1"
   ]
  }
 ],
 "metadata": {
  "kernelspec": {
   "display_name": "base",
   "language": "python",
   "name": "python3"
  },
  "language_info": {
   "codemirror_mode": {
    "name": "ipython",
    "version": 3
   },
   "file_extension": ".py",
   "mimetype": "text/x-python",
   "name": "python",
   "nbconvert_exporter": "python",
   "pygments_lexer": "ipython3",
   "version": "3.12.4"
  }
 },
 "nbformat": 4,
 "nbformat_minor": 5
}
