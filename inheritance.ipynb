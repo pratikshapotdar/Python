{
 "cells": [
  {
   "cell_type": "markdown",
   "id": "ead3a619",
   "metadata": {},
   "source": [
    "single inheritance"
   ]
  },
  {
   "cell_type": "code",
   "execution_count": 1,
   "id": "bd548f3b",
   "metadata": {},
   "outputs": [
    {
     "name": "stdout",
     "output_type": "stream",
     "text": [
      "10\n",
      "20\n"
     ]
    }
   ],
   "source": [
    "class parent:\n",
    "    x = 10\n",
    "    def showx(self):\n",
    "        print(self.x)\n",
    "class child(parent):\n",
    "    y = 20\n",
    "    def showy(self):\n",
    "        print(self.y)\n",
    "c = child()\n",
    "c.showx()\n",
    "c.showy()\n"
   ]
  },
  {
   "cell_type": "markdown",
   "id": "34572659",
   "metadata": {},
   "source": [
    "constructor ans destructor in inheritance"
   ]
  },
  {
   "cell_type": "code",
   "execution_count": 3,
   "id": "5e9d18fe",
   "metadata": {},
   "outputs": [
    {
     "name": "stdout",
     "output_type": "stream",
     "text": [
      "constructor of class B\n"
     ]
    }
   ],
   "source": [
    "class A:\n",
    "    def __init__(self):\n",
    "        print(\"constructor of class A\")\n",
    "    def __del__(self):\n",
    "        print(\"destructor of class A\")\n",
    "class B(A):\n",
    "    def __init__(self):\n",
    "        print(\"constructor of class B\")\n",
    "    def __del__(self):\n",
    "        print(\"destructor of class B\")\n",
    "obj=B()"
   ]
  },
  {
   "cell_type": "code",
   "execution_count": 4,
   "id": "a848bde5",
   "metadata": {},
   "outputs": [
    {
     "name": "stdout",
     "output_type": "stream",
     "text": [
      "constructor of class A\n",
      "constructor of class B\n",
      "destructor of class B\n"
     ]
    }
   ],
   "source": [
    "class A:\n",
    "    def __init__(self):\n",
    "        print(\"constructor of class A\")\n",
    "    def __del__(self):\n",
    "        print(\"destructor of class A\")\n",
    "class B(A):\n",
    "    def __init__(self):\n",
    "        A.__init__(self)\n",
    "        print(\"constructor of class B\")\n",
    "    def __del__(self):\n",
    "        print(\"destructor of class B\")\n",
    "        A.__del__(self)\n",
    "obj=B()"
   ]
  }
 ],
 "metadata": {
  "kernelspec": {
   "display_name": "base",
   "language": "python",
   "name": "python3"
  },
  "language_info": {
   "codemirror_mode": {
    "name": "ipython",
    "version": 3
   },
   "file_extension": ".py",
   "mimetype": "text/x-python",
   "name": "python",
   "nbconvert_exporter": "python",
   "pygments_lexer": "ipython3",
   "version": "3.12.4"
  }
 },
 "nbformat": 4,
 "nbformat_minor": 5
}
