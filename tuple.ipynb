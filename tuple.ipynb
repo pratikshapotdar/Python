{
 "cells": [
  {
   "cell_type": "markdown",
   "id": "08254ddc",
   "metadata": {},
   "source": [
    "declaring tuple minimum 2 ele are mandatory"
   ]
  },
  {
   "cell_type": "code",
   "execution_count": 1,
   "id": "36f6b8de",
   "metadata": {},
   "outputs": [
    {
     "name": "stdout",
     "output_type": "stream",
     "text": [
      "type is: <class 'tuple'>\n"
     ]
    }
   ],
   "source": [
    "tuple1 = 10,20\n",
    "print(\"type is:\",type(tuple1))"
   ]
  },
  {
   "cell_type": "code",
   "execution_count": 2,
   "id": "44c79c7c",
   "metadata": {},
   "outputs": [
    {
     "name": "stdout",
     "output_type": "stream",
     "text": [
      "type is: <class 'tuple'>\n"
     ]
    }
   ],
   "source": [
    "tuple2 = (10,20)\n",
    "print(\"type is:\",type(tuple2))"
   ]
  },
  {
   "cell_type": "markdown",
   "id": "cc68fb9d",
   "metadata": {},
   "source": [
    "accessing tuple ele using index numbers"
   ]
  },
  {
   "cell_type": "code",
   "execution_count": 3,
   "id": "f54f7893",
   "metadata": {},
   "outputs": [
    {
     "name": "stdout",
     "output_type": "stream",
     "text": [
      "At index 0,we have: 10\n",
      "At index 3,we have: ravi\n"
     ]
    }
   ],
   "source": [
    "tuple1 = (10,20,30,\"ravi\",40,50)\n",
    "print(\"At index 0,we have:\",tuple1[0])\n",
    "print(\"At index 3,we have:\",tuple1[3])"
   ]
  },
  {
   "cell_type": "markdown",
   "id": "c5b2a5fc",
   "metadata": {},
   "source": [
    "using while loop"
   ]
  },
  {
   "cell_type": "code",
   "execution_count": 4,
   "id": "88202297",
   "metadata": {},
   "outputs": [
    {
     "name": "stdout",
     "output_type": "stream",
     "text": [
      "At index 0 we have: 10\n",
      "At index 1 we have: 20\n",
      "At index 2 we have: 30\n",
      "At index 3 we have: ravi\n",
      "At index 4 we have: 50\n"
     ]
    }
   ],
   "source": [
    "tuple1 = (10,20,30,\"ravi\",50)\n",
    "i=0\n",
    "while i<tuple1.__len__():\n",
    "    print(\"At index\",i,\"we have:\",tuple1[i])\n",
    "    i=i+1"
   ]
  },
  {
   "cell_type": "markdown",
   "id": "bb7ab669",
   "metadata": {},
   "source": [
    "negative tuple indexing"
   ]
  },
  {
   "cell_type": "code",
   "execution_count": 6,
   "id": "b7f94c2b",
   "metadata": {},
   "outputs": [
    {
     "name": "stdout",
     "output_type": "stream",
     "text": [
      "30\n",
      "20\n",
      "10\n"
     ]
    },
    {
     "ename": "IndexError",
     "evalue": "tuple index out of range",
     "output_type": "error",
     "traceback": [
      "\u001b[1;31m---------------------------------------------------------------------------\u001b[0m",
      "\u001b[1;31mIndexError\u001b[0m                                Traceback (most recent call last)",
      "Cell \u001b[1;32mIn[6], line 5\u001b[0m\n\u001b[0;32m      3\u001b[0m \u001b[38;5;28mprint\u001b[39m(tuple1[\u001b[38;5;241m-\u001b[39m\u001b[38;5;241m2\u001b[39m])\n\u001b[0;32m      4\u001b[0m \u001b[38;5;28mprint\u001b[39m(tuple1[\u001b[38;5;241m-\u001b[39m\u001b[38;5;241m3\u001b[39m])\n\u001b[1;32m----> 5\u001b[0m \u001b[38;5;28mprint\u001b[39m(tuple1[\u001b[38;5;241m-\u001b[39m\u001b[38;5;241m4\u001b[39m])\n",
      "\u001b[1;31mIndexError\u001b[0m: tuple index out of range"
     ]
    }
   ],
   "source": [
    "tuple1 = (10,20,30)\n",
    "print(tuple1[-1])\n",
    "print(tuple1[-2])\n",
    "print(tuple1[-3])\n",
    "print(tuple1[-4])\n"
   ]
  },
  {
   "cell_type": "markdown",
   "id": "6e03f3cd",
   "metadata": {},
   "source": [
    "using for each loop"
   ]
  },
  {
   "cell_type": "code",
   "execution_count": 8,
   "id": "7b86177c",
   "metadata": {},
   "outputs": [
    {
     "name": "stdout",
     "output_type": "stream",
     "text": [
      "10\n",
      "20\n",
      "30\n"
     ]
    }
   ],
   "source": [
    "tuple1 = (10,20,30)\n",
    "for ele in tuple1:\n",
    "    print(ele)"
   ]
  },
  {
   "cell_type": "markdown",
   "id": "796de259",
   "metadata": {},
   "source": [
    "slicing tuple"
   ]
  },
  {
   "cell_type": "code",
   "execution_count": 9,
   "id": "e1ddc636",
   "metadata": {},
   "outputs": [
    {
     "name": "stdout",
     "output_type": "stream",
     "text": [
      "('P', 'Y', 'T', 'H', 'O', 'N')\n",
      "Sliced tuple1: ('T', 'H', 'O')\n",
      "Sliced tuple2: ('T', 'H', 'O', 'N')\n",
      "Sliced tuple3: ('P', 'Y', 'T', 'H', 'O', 'N')\n",
      "Sliced tuple4: ('P', 'Y', 'T')\n",
      "Sliced tuple5: ('P', 'Y', 'T', 'H')\n",
      "Sliced tuple6: ('N', 'O', 'H', 'T', 'Y', 'P')\n"
     ]
    }
   ],
   "source": [
    "tuple1 = (\"P\",\"Y\",\"T\",\"H\",\"O\",\"N\")\n",
    "print(tuple1)\n",
    "sliced_tuple1 = tuple1[2:5]\n",
    "sliced_tuple2 = tuple1[2:]\n",
    "sliced_tuple3 = tuple1[:]\n",
    "sliced_tuple4 = tuple1[:-3]\n",
    "sliced_tuple5 = tuple1[:4]\n",
    "sliced_tuple6 = tuple1[::-1]\n",
    "\n",
    "print(\"Sliced tuple1:\",sliced_tuple1)\n",
    "print(\"Sliced tuple2:\",sliced_tuple2)\n",
    "print(\"Sliced tuple3:\",sliced_tuple3)\n",
    "print(\"Sliced tuple4:\",sliced_tuple4)\n",
    "print(\"Sliced tuple5:\",sliced_tuple5)\n",
    "print(\"Sliced tuple6:\",sliced_tuple6)"
   ]
  },
  {
   "cell_type": "markdown",
   "id": "eca5793d",
   "metadata": {},
   "source": [
    "basic tuple operators"
   ]
  },
  {
   "cell_type": "markdown",
   "id": "b75f2ccd",
   "metadata": {},
   "source": [
    "1 tuples are immutable"
   ]
  },
  {
   "cell_type": "code",
   "execution_count": 10,
   "id": "d966690f",
   "metadata": {},
   "outputs": [
    {
     "ename": "TypeError",
     "evalue": "'tuple' object does not support item assignment",
     "output_type": "error",
     "traceback": [
      "\u001b[1;31m---------------------------------------------------------------------------\u001b[0m",
      "\u001b[1;31mTypeError\u001b[0m                                 Traceback (most recent call last)",
      "Cell \u001b[1;32mIn[10], line 2\u001b[0m\n\u001b[0;32m      1\u001b[0m tuple1 \u001b[38;5;241m=\u001b[39m (\u001b[38;5;241m10\u001b[39m,\u001b[38;5;241m20\u001b[39m,\u001b[38;5;241m30\u001b[39m)\n\u001b[1;32m----> 2\u001b[0m tuple1[\u001b[38;5;241m1\u001b[39m] \u001b[38;5;241m=\u001b[39m \u001b[38;5;241m45\u001b[39m\n",
      "\u001b[1;31mTypeError\u001b[0m: 'tuple' object does not support item assignment"
     ]
    }
   ],
   "source": [
    "tuple1 = (10,20,30)\n",
    "tuple1[1] = 45"
   ]
  },
  {
   "cell_type": "code",
   "execution_count": 12,
   "id": "af8890dc",
   "metadata": {},
   "outputs": [
    {
     "name": "stdout",
     "output_type": "stream",
     "text": [
      "After concatenation: (10, 20, 30, 50, 60)\n"
     ]
    }
   ],
   "source": [
    "tuple1 = (10,20,30)\n",
    "tuple1 = tuple1 + (50,60)\n",
    "print(\"After concatenation:\",tuple1)"
   ]
  },
  {
   "cell_type": "code",
   "execution_count": null,
   "id": "96caf197",
   "metadata": {},
   "outputs": [],
   "source": []
  },
  {
   "cell_type": "code",
   "execution_count": 13,
   "id": "a19a6765",
   "metadata": {},
   "outputs": [
    {
     "name": "stdout",
     "output_type": "stream",
     "text": [
      "tuple1 has 4 elements\n"
     ]
    }
   ],
   "source": [
    "tuple1 = (10,2,30,40)\n",
    "a = tuple1.__len__()\n",
    "print(\"tuple1 has\",a,\"elements\")"
   ]
  },
  {
   "cell_type": "markdown",
   "id": "5e615afc",
   "metadata": {},
   "source": [
    "testing membership operators on tuple"
   ]
  },
  {
   "cell_type": "code",
   "execution_count": null,
   "id": "fd770311",
   "metadata": {},
   "outputs": [],
   "source": [
    "tuple1 = (10,20,30,\"ravi\",40,50)\n",
    "print(10 in tuple1)\n",
    "print(25 in tuple1)\n",
    "print(40 not in tuple1)\n"
   ]
  }
 ],
 "metadata": {
  "kernelspec": {
   "display_name": "base",
   "language": "python",
   "name": "python3"
  },
  "language_info": {
   "codemirror_mode": {
    "name": "ipython",
    "version": 3
   },
   "file_extension": ".py",
   "mimetype": "text/x-python",
   "name": "python",
   "nbconvert_exporter": "python",
   "pygments_lexer": "ipython3",
   "version": "3.12.4"
  }
 },
 "nbformat": 4,
 "nbformat_minor": 5
}
