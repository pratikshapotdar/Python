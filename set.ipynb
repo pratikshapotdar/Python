{
 "cells": [
  {
   "cell_type": "markdown",
   "id": "c96c6f74",
   "metadata": {},
   "source": [
    "set declaring"
   ]
  },
  {
   "cell_type": "code",
   "execution_count": 2,
   "id": "3937da89",
   "metadata": {},
   "outputs": [
    {
     "name": "stdout",
     "output_type": "stream",
     "text": [
      "{1.45, (1, 2, 3), 'hello', 20}\n"
     ]
    }
   ],
   "source": [
    "set1 = {1.45,20,\"hello\",(1,2,3)}\n",
    "print(set1)"
   ]
  },
  {
   "cell_type": "markdown",
   "id": "bcf34e35",
   "metadata": {},
   "source": [
    "using for loop"
   ]
  },
  {
   "cell_type": "code",
   "execution_count": 3,
   "id": "2503bd26",
   "metadata": {},
   "outputs": [
    {
     "name": "stdout",
     "output_type": "stream",
     "text": [
      "10\n",
      "20\n",
      "30\n"
     ]
    }
   ],
   "source": [
    "set1 = set({10,20,30})\n",
    "for i in set1:\n",
    "    print(i)"
   ]
  },
  {
   "cell_type": "markdown",
   "id": "6f7f5c4a",
   "metadata": {},
   "source": [
    "basic set operation"
   ]
  },
  {
   "cell_type": "code",
   "execution_count": 7,
   "id": "4169a444",
   "metadata": {},
   "outputs": [
    {
     "name": "stdout",
     "output_type": "stream",
     "text": [
      "{1, 2, 3, 4, 6, 8}\n"
     ]
    }
   ],
   "source": [
    "set1 = {1,3}\n",
    "set1.update([2,3,4],{1,6,8})\n",
    "print(set1)"
   ]
  },
  {
   "cell_type": "markdown",
   "id": "fe4232d1",
   "metadata": {},
   "source": [
    "finding length of set"
   ]
  },
  {
   "cell_type": "code",
   "execution_count": 8,
   "id": "29f2238f",
   "metadata": {},
   "outputs": [
    {
     "name": "stdout",
     "output_type": "stream",
     "text": [
      "7\n"
     ]
    }
   ],
   "source": [
    "set1 = {10,20,30,40,50.5,\"abc\",66.66}\n",
    "a = set1.__len__()\n",
    "print(a)"
   ]
  },
  {
   "cell_type": "code",
   "execution_count": 13,
   "id": "93e52237",
   "metadata": {},
   "outputs": [
    {
     "name": "stdout",
     "output_type": "stream",
     "text": [
      "set()\n"
     ]
    }
   ],
   "source": [
    "set1 = set(\"PYTHON\")\n",
    "#popped_ele1 = set1.pop()\n",
    "#popped_ele2 = set1.pop()\n",
    "set1.clear()\n",
    "print(set1)"
   ]
  },
  {
   "cell_type": "markdown",
   "id": "a627e512",
   "metadata": {},
   "source": [
    "set union"
   ]
  },
  {
   "cell_type": "code",
   "execution_count": 14,
   "id": "486da973",
   "metadata": {},
   "outputs": [
    {
     "name": "stdout",
     "output_type": "stream",
     "text": [
      "{1, 2, 3, 4, 5, 6, 7, 8}\n"
     ]
    }
   ],
   "source": [
    "a = {1,2,3,4,5}\n",
    "b = {4,5,6,7,8}\n",
    "c = a.union(b)\n",
    "print(c)"
   ]
  },
  {
   "cell_type": "markdown",
   "id": "483e13fb",
   "metadata": {},
   "source": [
    "set intersection"
   ]
  },
  {
   "cell_type": "code",
   "execution_count": 15,
   "id": "83fe3b0f",
   "metadata": {},
   "outputs": [
    {
     "name": "stdout",
     "output_type": "stream",
     "text": [
      "{4, 5}\n"
     ]
    }
   ],
   "source": [
    "a = {1,2,3,4,5}\n",
    "b = {4,5,6,7,8}\n",
    "c = a.intersection(b)\n",
    "print(c)"
   ]
  },
  {
   "cell_type": "markdown",
   "id": "9cfc94c4",
   "metadata": {},
   "source": [
    "set difference"
   ]
  },
  {
   "cell_type": "code",
   "execution_count": 16,
   "id": "fc094850",
   "metadata": {},
   "outputs": [
    {
     "name": "stdout",
     "output_type": "stream",
     "text": [
      "{8, 6, 7}\n"
     ]
    }
   ],
   "source": [
    "a = {1,2,3,4,5}\n",
    "b = {4,5,6,7,8}\n",
    "c = a.difference(b)\n",
    "c = {1,2,3}\n",
    "d = b.difference(a)\n",
    "print(d)"
   ]
  },
  {
   "cell_type": "markdown",
   "id": "328e3246",
   "metadata": {},
   "source": [
    "set symmetric differnce"
   ]
  },
  {
   "cell_type": "code",
   "execution_count": 17,
   "id": "4ca121d8",
   "metadata": {},
   "outputs": [
    {
     "name": "stdout",
     "output_type": "stream",
     "text": [
      "{1, 2, 3, 6, 7, 8}\n"
     ]
    }
   ],
   "source": [
    "a = {1,2,3,4,5}\n",
    "b = {4,5,6,7,8}\n",
    "c = a.symmetric_difference(b)\n",
    "print(c)"
   ]
  }
 ],
 "metadata": {
  "kernelspec": {
   "display_name": "base",
   "language": "python",
   "name": "python3"
  },
  "language_info": {
   "codemirror_mode": {
    "name": "ipython",
    "version": 3
   },
   "file_extension": ".py",
   "mimetype": "text/x-python",
   "name": "python",
   "nbconvert_exporter": "python",
   "pygments_lexer": "ipython3",
   "version": "3.12.4"
  }
 },
 "nbformat": 4,
 "nbformat_minor": 5
}
