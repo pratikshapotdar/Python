{
 "cells": [
  {
   "cell_type": "markdown",
   "id": "fb7c5880",
   "metadata": {},
   "source": [
    "defining destructor or the __del__() methor"
   ]
  },
  {
   "cell_type": "code",
   "execution_count": 3,
   "id": "78b8efd7",
   "metadata": {},
   "outputs": [
    {
     "name": "stdout",
     "output_type": "stream",
     "text": [
      "calling function1\n",
      "this is constructor\n",
      "this is destructor\n",
      "calling function2\n",
      "this is constructor\n",
      "this is destructor\n"
     ]
    }
   ],
   "source": [
    "class test:\n",
    "         def __init__(self):\n",
    "                print(\"this is constructor\")\n",
    "         def __del__(self):\n",
    "                print(\"this is destructor\")\n",
    "def function1():\n",
    "        s1 = test()\n",
    "def function2():\n",
    "        s2 = test()\n",
    "print(\"calling function1\")\n",
    "function1()\n",
    "print(\"calling function2\")\n",
    "function2()"
   ]
  },
  {
   "cell_type": "markdown",
   "id": "e81db56c",
   "metadata": {},
   "source": [
    "manually calling constructor or destructor"
   ]
  },
  {
   "cell_type": "code",
   "execution_count": 5,
   "id": "75b65ab5",
   "metadata": {},
   "outputs": [
    {
     "name": "stdout",
     "output_type": "stream",
     "text": [
      "declaring object1\n",
      "this is constructor\n",
      "this is destructor\n",
      "declaring object1\n",
      "this is constructor\n",
      "this is destructor\n",
      "last line\n"
     ]
    }
   ],
   "source": [
    "class test:\n",
    "    def __init__(self):\n",
    "        print(\"this is constructor\")\n",
    "    def __del__(self):\n",
    "        print(\"this is destructor\")\n",
    "print(\"declaring object1\")\n",
    "t1 = test()\n",
    "t1.__init__()\n",
    "t1.__del__()\n",
    "print(\"last line\")"
   ]
  },
  {
   "cell_type": "markdown",
   "id": "99f1e4a3",
   "metadata": {},
   "source": [
    "deleting an object"
   ]
  },
  {
   "cell_type": "code",
   "execution_count": null,
   "id": "1093fd62",
   "metadata": {},
   "outputs": [
    {
     "name": "stdout",
     "output_type": "stream",
     "text": [
      "10\n"
     ]
    },
    {
     "ename": "NameError",
     "evalue": "name 's1' is not defined",
     "output_type": "error",
     "traceback": [
      "\u001b[1;31m---------------------------------------------------------------------------\u001b[0m",
      "\u001b[1;31mNameError\u001b[0m                                 Traceback (most recent call last)",
      "Cell \u001b[1;32mIn[8], line 6\u001b[0m\n\u001b[0;32m      4\u001b[0m \u001b[38;5;28mprint\u001b[39m(s1\u001b[38;5;241m.\u001b[39mx)\n\u001b[0;32m      5\u001b[0m \u001b[38;5;28;01mdel\u001b[39;00m s1\n\u001b[1;32m----> 6\u001b[0m \u001b[38;5;28mprint\u001b[39m(s1)\n",
      "\u001b[1;31mNameError\u001b[0m: name 's1' is not defined"
     ]
    }
   ],
   "source": [
    "class student:\n",
    "    x =10\n",
    "s1 = student()\n",
    "print(s1.x)\n",
    "del s1\n",
    "print(s1) # error"
   ]
  }
 ],
 "metadata": {
  "kernelspec": {
   "display_name": "base",
   "language": "python",
   "name": "python3"
  },
  "language_info": {
   "codemirror_mode": {
    "name": "ipython",
    "version": 3
   },
   "file_extension": ".py",
   "mimetype": "text/x-python",
   "name": "python",
   "nbconvert_exporter": "python",
   "pygments_lexer": "ipython3",
   "version": "3.12.4"
  }
 },
 "nbformat": 4,
 "nbformat_minor": 5
}
