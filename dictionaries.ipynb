{
 "cells": [
  {
   "cell_type": "code",
   "execution_count": 3,
   "id": "8c916fb4",
   "metadata": {},
   "outputs": [
    {
     "name": "stdout",
     "output_type": "stream",
     "text": [
      "{}\n",
      "{1: 'apple', 2: 'watermelon'}\n",
      "{'name': 'ravi', 1: [1, 2, 3]}\n",
      "{1: 'apple', 2: 'ball'}\n"
     ]
    }
   ],
   "source": [
    "dict1 = {}\n",
    "dict2 = {1:\"apple\",2:\"watermelon\"}\n",
    "dict3 = {\"name\":\"ravi\",1:[1,2,3]}\n",
    "dict4 = dict([(1,\"apple\"),(2,\"ball\")])\n",
    "print(dict1)\n",
    "print(dict2)\n",
    "print(dict3)\n",
    "print(dict4)"
   ]
  },
  {
   "cell_type": "markdown",
   "id": "7b04f656",
   "metadata": {},
   "source": [
    "accessing dictionary ele using index numbers"
   ]
  },
  {
   "cell_type": "code",
   "execution_count": 4,
   "id": "5afe9145",
   "metadata": {},
   "outputs": [
    {
     "name": "stdout",
     "output_type": "stream",
     "text": [
      "27/09/1985\n",
      "27/09/1984\n"
     ]
    }
   ],
   "source": [
    "dict1 = {\"ravi\":\"27/09/1985\",\"chandrika\":\"27/09/1984\"}\n",
    "print(dict1[\"ravi\"])\n",
    "print(dict1[\"chandrika\"])"
   ]
  },
  {
   "cell_type": "markdown",
   "id": "6c9e37b5",
   "metadata": {},
   "source": [
    "using for-loop"
   ]
  },
  {
   "cell_type": "code",
   "execution_count": 6,
   "id": "75f998e6",
   "metadata": {},
   "outputs": [
    {
     "name": "stdout",
     "output_type": "stream",
     "text": [
      "at key ravi values is: 27/09\n",
      "at key chandrika values is: 27/06\n",
      "at key jaineed values is: 27/07\n"
     ]
    }
   ],
   "source": [
    "dict1 = {\"ravi\":\"27/09\",\"chandrika\":\"27/06\",\"jaineed\":\"27/07\"}\n",
    "for i in dict1:\n",
    "    print(\"at key\",i,\"values is:\",dict1.get(i))"
   ]
  },
  {
   "cell_type": "markdown",
   "id": "15b2e011",
   "metadata": {},
   "source": [
    "keys() and values() function"
   ]
  },
  {
   "cell_type": "code",
   "execution_count": 7,
   "id": "ebf5c491",
   "metadata": {},
   "outputs": [
    {
     "name": "stdout",
     "output_type": "stream",
     "text": [
      "the keys() function will return:  dict_keys(['ravi', 'chandu', 'jay'])\n",
      "dict_values(['27/09', '27/10', '27/11'])\n"
     ]
    }
   ],
   "source": [
    "dict1 ={\"ravi\":\"27/09\",\"chandu\":\"27/10\",\"jay\":\"27/11\"}\n",
    "print(\"the keys() function will return: \",dict1.keys())\n",
    "print(dict1.values())"
   ]
  },
  {
   "cell_type": "markdown",
   "id": "a7b3d517",
   "metadata": {},
   "source": [
    "basic dictionary opreation\n",
    "change or update "
   ]
  },
  {
   "cell_type": "code",
   "execution_count": 10,
   "id": "f61694cd",
   "metadata": {},
   "outputs": [
    {
     "name": "stdout",
     "output_type": "stream",
     "text": [
      "the updated dictionary is:  {'ravi': '27/09', 'chandu': '23/10', 'jay': '27/11', 'janvi': '23/12'}\n"
     ]
    }
   ],
   "source": [
    "dict1 ={\"ravi\":\"27/09\",\"chandu\":\"27/10\",\"jay\":\"27/11\"}\n",
    "dict1.update({\"janvi\":\"23/12\"})\n",
    "dict1.update({\"chandu\":\"23/10\"})\n",
    "print(\"the updated dictionary is: \",dict1)"
   ]
  },
  {
   "cell_type": "code",
   "execution_count": 13,
   "id": "519d2cf5",
   "metadata": {},
   "outputs": [
    {
     "name": "stdout",
     "output_type": "stream",
     "text": [
      "the updated dictionary is:  {'ravi': '27/09', 'chandu': '27/10', 'jay': '27/11', 'dirgh': '23/11', 'janvi': '23/12'}\n"
     ]
    }
   ],
   "source": [
    "dict1 ={\"ravi\":\"27/09\",\"chandu\":\"27/10\",\"jay\":\"27/11\"}\n",
    "dict2 = {\"dirgh\":\"23/11\",\"janvi\":\"23/12\"}\n",
    "dict1.update(dict2)\n",
    "print(\"the updated dictionary is: \",dict1)"
   ]
  },
  {
   "cell_type": "markdown",
   "id": "1db78be6",
   "metadata": {},
   "source": [
    "finding lenght"
   ]
  },
  {
   "cell_type": "code",
   "execution_count": 14,
   "id": "fd555c20",
   "metadata": {},
   "outputs": [
    {
     "name": "stdout",
     "output_type": "stream",
     "text": [
      "3\n"
     ]
    }
   ],
   "source": [
    "dict1 = {\"ravi\":\"27/09\",\"chandu\":\"27/10\",\"jay\":\"27/11\"}\n",
    "a = dict1.__len__()\n",
    "print(a)"
   ]
  },
  {
   "cell_type": "markdown",
   "id": "0a205e0b",
   "metadata": {},
   "source": [
    "updating dictionary using assignment operator"
   ]
  },
  {
   "cell_type": "code",
   "execution_count": 17,
   "id": "779e103e",
   "metadata": {},
   "outputs": [
    {
     "name": "stdout",
     "output_type": "stream",
     "text": [
      "{1: 100, 2: 20, 3: 30, 5: 500}\n"
     ]
    }
   ],
   "source": [
    "dict1 = {1:10,2:20,3:30}\n",
    "dict1[1] = 100\n",
    "dict1[5] = 500\n",
    "print(dict1)"
   ]
  },
  {
   "cell_type": "markdown",
   "id": "45816b2a",
   "metadata": {},
   "source": [
    "remove element"
   ]
  },
  {
   "cell_type": "code",
   "execution_count": null,
   "id": "e7cf076b",
   "metadata": {},
   "outputs": [
    {
     "name": "stdout",
     "output_type": "stream",
     "text": [
      "{}\n"
     ]
    }
   ],
   "source": [
    "dict1 = {\"ravi\":35,\"jay\":7,\"akhil\":18,\"vishal\":20,\"chandu\":42}\n",
    "# del dict1[\"akhil\"]\n",
    "dict1.pop(\"vishal\")\n",
    "dict1.popitem()\n",
    "dict1.clear()\n",
    "print(dict1)"
   ]
  },
  {
   "cell_type": "markdown",
   "id": "7d664757",
   "metadata": {},
   "source": [
    "deleting dictionary"
   ]
  },
  {
   "cell_type": "code",
   "execution_count": 19,
   "id": "a1baf328",
   "metadata": {},
   "outputs": [],
   "source": [
    "dist1 = {1:10,2:20,3:30}\n",
    "del dict1 "
   ]
  }
 ],
 "metadata": {
  "kernelspec": {
   "display_name": "base",
   "language": "python",
   "name": "python3"
  },
  "language_info": {
   "codemirror_mode": {
    "name": "ipython",
    "version": 3
   },
   "file_extension": ".py",
   "mimetype": "text/x-python",
   "name": "python",
   "nbconvert_exporter": "python",
   "pygments_lexer": "ipython3",
   "version": "3.12.4"
  }
 },
 "nbformat": 4,
 "nbformat_minor": 5
}
