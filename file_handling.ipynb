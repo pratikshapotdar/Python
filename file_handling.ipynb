{
 "cells": [
  {
   "cell_type": "code",
   "execution_count": 2,
   "id": "fd3336cd",
   "metadata": {},
   "outputs": [
    {
     "name": "stdout",
     "output_type": "stream",
     "text": [
      "data written successfully\n"
     ]
    },
    {
     "name": "stderr",
     "output_type": "stream",
     "text": [
      "<>:1: SyntaxWarning: invalid escape sequence '\\G'\n",
      "<>:1: SyntaxWarning: invalid escape sequence '\\G'\n",
      "C:\\Users\\PRATIKSHA\\AppData\\Local\\Temp\\ipykernel_25232\\1290490773.py:1: SyntaxWarning: invalid escape sequence '\\G'\n",
      "  f = open(\"D:\\GITHUB\\Python\\A.txt\",\"w\")\n"
     ]
    }
   ],
   "source": [
    "f = open(\"D:\\GITHUB\\Python\\A.txt\",\"w\")\n",
    "f.write(\"learn coding \\n ankit | ankush\")\n",
    "print(\"data written successfully\")"
   ]
  },
  {
   "cell_type": "code",
   "execution_count": 3,
   "id": "46726574",
   "metadata": {},
   "outputs": [
    {
     "name": "stdout",
     "output_type": "stream",
     "text": [
      "learn coding \n",
      " ankit | ankush\n",
      "data written successfully\n"
     ]
    }
   ],
   "source": [
    "f = open(\"A.txt\",\"r\")\n",
    "print(f.read(30))\n",
    "print(\"data written successfully\")"
   ]
  },
  {
   "cell_type": "code",
   "execution_count": 4,
   "id": "a2e61f60",
   "metadata": {},
   "outputs": [
    {
     "name": "stdout",
     "output_type": "stream",
     "text": [
      "['learn coding \\n', ' ankit | ankush']\n",
      "data written successfully\n"
     ]
    }
   ],
   "source": [
    "f = open(\"A.txt\",\"r\")\n",
    "print(f.readlines())\n",
    "print(\"data written successfully\")"
   ]
  },
  {
   "cell_type": "code",
   "execution_count": 5,
   "id": "e6f9a110",
   "metadata": {},
   "outputs": [
    {
     "name": "stdout",
     "output_type": "stream",
     "text": [
      "['learn coding \\n', ' ankit | ankush']\n",
      "file closed\n"
     ]
    }
   ],
   "source": [
    "try:\n",
    "    f = open(\"A.txt\",\"r\")\n",
    "    print(f.readlines())\n",
    "except:\n",
    "    print(\"file not availble,create file first\")\n",
    "else:\n",
    "    f.close()\n",
    "    print(\"file closed\")"
   ]
  },
  {
   "cell_type": "code",
   "execution_count": 8,
   "id": "9fb906d4",
   "metadata": {},
   "outputs": [
    {
     "name": "stdout",
     "output_type": "stream",
     "text": [
      "file not availble\n"
     ]
    }
   ],
   "source": [
    "try:\n",
    "    with open(\"A.txt\") as f2:\n",
    "        with open(\"A.txt\") as f3:\n",
    "            for i in f2:\n",
    "                f3.write(i)\n",
    "except:\n",
    "    print(\"file not availble\")\n",
    "else:\n",
    "    f.close()\n",
    "    print(\"file closed\")\n",
    "            "
   ]
  },
  {
   "cell_type": "code",
   "execution_count": 9,
   "id": "1e929659",
   "metadata": {},
   "outputs": [
    {
     "name": "stdout",
     "output_type": "stream",
     "text": [
      "file not availble\n"
     ]
    }
   ],
   "source": [
    "import os\n",
    "if os.path.exists(\"A.txt\"):\n",
    "    os.remove(\"A.txt\")\n",
    "else:\n",
    "    print(\"file not availble\")"
   ]
  }
 ],
 "metadata": {
  "kernelspec": {
   "display_name": "base",
   "language": "python",
   "name": "python3"
  },
  "language_info": {
   "codemirror_mode": {
    "name": "ipython",
    "version": 3
   },
   "file_extension": ".py",
   "mimetype": "text/x-python",
   "name": "python",
   "nbconvert_exporter": "python",
   "pygments_lexer": "ipython3",
   "version": "3.12.4"
  }
 },
 "nbformat": 4,
 "nbformat_minor": 5
}
